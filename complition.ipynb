{
 "cells": [
  {
   "metadata": {},
   "cell_type": "code",
   "outputs": [],
   "execution_count": null,
   "source": "# Prepare documents for database",
   "id": "e12a0fa6ef3236ce"
  },
  {
   "metadata": {},
   "cell_type": "code",
   "outputs": [],
   "execution_count": null,
   "source": [
    "from lib.EmbeddingProvider import OpenAiEmbeddingProvider\n",
    "from lib.DataRepository import DataRepository\n",
    "\n",
    "repo = DataRepository(\n",
    "    embedding=OpenAiEmbeddingProvider(),\n",
    "    db_path=\"./data/db/open_ai_large_1000_100\",\n",
    "    path=\"./data/r2.0/pdfs\",\n",
    "    name=\"open_ai_large_1000_100\",\n",
    "    chunk_size = 1_000,\n",
    "    chunk_overlap = 100,\n",
    ")\n",
    "repo.save_by_file()"
   ],
   "id": "5c98e9827e925be"
  }
 ],
 "metadata": {},
 "nbformat": 5,
 "nbformat_minor": 9
}
