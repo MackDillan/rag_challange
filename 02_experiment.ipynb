{
 "cells": [
  {
   "metadata": {
    "ExecuteTime": {
     "end_time": "2025-02-26T18:24:44.726342Z",
     "start_time": "2025-02-26T18:24:44.681794Z"
    }
   },
   "cell_type": "code",
   "source": [
    "from numpy.ma.core import count\n",
    "\n",
    "from lib.EmbeddingProvider import OpenAiEmbeddingProvider\n",
    "\n",
    "from lib.DataRepository import DataRepository\n",
    "from lib.questions import QuestionExtractor\n",
    "\n",
    "repo = DataRepository(embedding=OpenAiEmbeddingProvider(), db_path=\"./data/db/open_ai_small_50_10\", chunk_size=50, chunk_overlap=10)\n",
    "# repo.save_by_file()"
   ],
   "id": "475427246e8856ac",
   "outputs": [],
   "execution_count": 8
  },
  {
   "metadata": {},
   "cell_type": "markdown",
   "source": "# Parce question and find metrics in the question, find similar metrics",
   "id": "4a2d0ace9cb6df7f"
  },
  {
   "metadata": {
    "ExecuteTime": {
     "end_time": "2025-02-26T18:24:44.734206Z",
     "start_time": "2025-02-26T18:24:44.731622Z"
    }
   },
   "cell_type": "code",
   "source": [
    "from lib.questions import QuestionExtractor\n",
    "\n",
    "question = \"According to the annual report, what is the Operating margin (%) for Altech Chemicals Ltd  (within the last period or at the end of the last period)? If data is not available, return 'N/A'.\"\n",
    "kind = \"names\"\n",
    "\n",
    "extractor = QuestionExtractor()\n",
    "extract = extractor.extract(question)\n",
    "print(extract)\n",
    "close_metrics = extractor.get_synonyms(extract[\"metric\"])\n",
    "print(close_metrics)"
   ],
   "id": "a7c7be7ae2e607bf",
   "outputs": [
    {
     "name": "stdout",
     "output_type": "stream",
     "text": [
      "{'original_question': \"According to the annual report, what is the Operating margin (%) for Altech Chemicals Ltd  (within the last period or at the end of the last period)? If data is not available, return 'N/A'.\", 'metric': 'Operating margin (%)', 'companies': ['Altech Chemicals Ltd'], 'currency': None, 'comparison': None, 'category': 'fin_metric'}\n",
      "['operating profit margin', 'operational margin', 'profit margin (operating)', 'percentage operating profit']\n"
     ]
    }
   ],
   "execution_count": 9
  },
  {
   "metadata": {
    "ExecuteTime": {
     "end_time": "2025-02-26T18:24:44.749155Z",
     "start_time": "2025-02-26T18:24:44.745717Z"
    }
   },
   "cell_type": "code",
   "source": [
    "import json\n",
    "\n",
    "companiy = extract[\"companies\"][0]\n",
    "with open(\"data/r2.0-test/subset.json\", 'r') as file:\n",
    "    subset = json.load(file)\n",
    "filered = list(filter(lambda x: x[\"company_name\"] == companiy, subset))[0]\n",
    "filered"
   ],
   "id": "26adbd7f9ea4d670",
   "outputs": [
    {
     "data": {
      "text/plain": [
       "{'sha1': '63688d5d0b4f12e9f847c5407439a1ec46047a4a',\n",
       " 'cur': 'USD',\n",
       " 'company_name': 'Altech Chemicals Ltd',\n",
       " 'major_industry': 'Technology',\n",
       " 'mentions_recent_mergers_and_acquisitions': True,\n",
       " 'has_leadership_changes': False,\n",
       " 'has_layoffs': False,\n",
       " 'has_executive_compensation': True,\n",
       " 'has_rnd_investment_numbers': True,\n",
       " 'has_new_product_launches': True,\n",
       " 'has_capital_expenditures': True,\n",
       " 'has_financial_performance_indicators': True,\n",
       " 'has_dividend_policy_changes': False,\n",
       " 'has_share_buyback_plans': False,\n",
       " 'has_capital_structure_changes': False,\n",
       " 'mentions_new_risk_factors': True,\n",
       " 'has_guidance_updates': False,\n",
       " 'has_regulatory_or_litigation_issues': False,\n",
       " 'has_strategic_restructuring': False,\n",
       " 'has_supply_chain_disruptions': False,\n",
       " 'has_esg_initiatives': True}"
      ]
     },
     "execution_count": 10,
     "metadata": {},
     "output_type": "execute_result"
    }
   ],
   "execution_count": 10
  },
  {
   "metadata": {},
   "cell_type": "markdown",
   "source": "# Find similar metrics in the data base",
   "id": "9874ee77f157711d"
  },
  {
   "metadata": {
    "ExecuteTime": {
     "end_time": "2025-02-26T18:24:47.792116Z",
     "start_time": "2025-02-26T18:24:44.770821Z"
    }
   },
   "cell_type": "code",
   "source": [
    "main_metric = extract[\"metric\"]\n",
    "print(main_metric)\n",
    "file_filter = { \"source\" : f\"./data/r2.0-test/pdfs/{filered[\"sha1\"]}.pdf\" }\n",
    "main_results = repo.query(main_metric, k=10, f=file_filter) # start with main metric from the question\n",
    "\n",
    "main_metric = extract[\"metric\"]\n",
    "smaller_results = [] # start with main metric from the question\n",
    "for m in close_metrics:\n",
    "    smaller_results += repo.query(m, k=5) # find similar metrics\n",
    "search_results = main_results + smaller_results\n",
    "print(len(search_results))"
   ],
   "id": "dd095eed13384898",
   "outputs": [
    {
     "name": "stdout",
     "output_type": "stream",
     "text": [
      "Operating margin (%)\n",
      "30\n"
     ]
    }
   ],
   "execution_count": 11
  },
  {
   "metadata": {
    "ExecuteTime": {
     "end_time": "2025-02-26T18:24:47.803529Z",
     "start_time": "2025-02-26T18:24:47.798671Z"
    }
   },
   "cell_type": "code",
   "source": [
    "pages_candidates = {}\n",
    "for doc, score in search_results:\n",
    "    page = doc.metadata[\"page\"]\n",
    "    if page in pages_candidates:\n",
    "        pages_candidates[page][\"count\"] += 1\n",
    "        pages_candidates[page][\"score\"].append(score)\n",
    "    else:\n",
    "        pages_candidates[page] = {\n",
    "            \"count\": 1,\n",
    "            \"score\": [score]\n",
    "        }\n",
    "pages_candidates_filtered = pages_candidates\n",
    "for p in pages_candidates_filtered:\n",
    "    pages_candidates_filtered[p][\"score\"] = sum(pages_candidates_filtered[p][\"score\"]) / pages_candidates_filtered[p][\"count\"]\n",
    "\n",
    "pages_candidates_filtered = sorted(\n",
    "    pages_candidates.items(),\n",
    "    key=lambda x: (-x[1][\"count\"], x[1][\"score\"])\n",
    ")\n",
    "pages_candidates_filtered[0:8]"
   ],
   "id": "1caf0f0d4ef75e1",
   "outputs": [
    {
     "data": {
      "text/plain": [
       "[(47, {'count': 5, 'score': 1.062661838531494}),\n",
       " (12, {'count': 3, 'score': 0.32247887551784515}),\n",
       " (141, {'count': 3, 'score': 0.39292486508687335}),\n",
       " (25, {'count': 3, 'score': 0.467891405026118}),\n",
       " (2, {'count': 2, 'score': 0.4098067879676819}),\n",
       " (99, {'count': 2, 'score': 0.419970765709877}),\n",
       " (123, {'count': 2, 'score': 0.6258890330791473}),\n",
       " (65, {'count': 2, 'score': 1.069601833820343})]"
      ]
     },
     "execution_count": 12,
     "metadata": {},
     "output_type": "execute_result"
    }
   ],
   "execution_count": 12
  },
  {
   "metadata": {
    "ExecuteTime": {
     "end_time": "2025-02-26T18:24:52.904357Z",
     "start_time": "2025-02-26T18:24:47.818542Z"
    }
   },
   "cell_type": "code",
   "source": [
    "from typing import Tuple\n",
    "from langchain_community.document_loaders import PyPDFLoader\n",
    "\n",
    "document_loader = PyPDFLoader(file_filter[\"source\"])\n",
    "doc = document_loader.load()\n",
    "\n",
    "pages = [p for p in doc if p.metadata[\"page\"] in [p for p, _ in pages_candidates_filtered[0:8]]]\n",
    "for p in pages:\n",
    "    print(p.metadata[\"page\"])\n",
    "    p.metadata[\"id\"] = p.metadata[\"page\"]\n",
    "\n",
    "rag = [(p, 0.0) for p in pages]"
   ],
   "id": "b032afe3c47fabea",
   "outputs": [
    {
     "name": "stdout",
     "output_type": "stream",
     "text": [
      "2\n",
      "12\n",
      "25\n",
      "47\n",
      "65\n"
     ]
    }
   ],
   "execution_count": 13
  },
  {
   "metadata": {
    "ExecuteTime": {
     "end_time": "2025-02-26T18:24:53.826727Z",
     "start_time": "2025-02-26T18:24:52.930975Z"
    }
   },
   "cell_type": "code",
   "source": [
    "from lib.Agent import OpenAIAgent\n",
    "\n",
    "agent = OpenAIAgent()\n",
    "agent.query(question, rag, path=\"./prompt/names_prompt.txt\")"
   ],
   "id": "6500237fb218139",
   "outputs": [
    {
     "data": {
      "text/plain": [
       "'N/A'"
      ]
     },
     "execution_count": 14,
     "metadata": {},
     "output_type": "execute_result"
    }
   ],
   "execution_count": 14
  }
 ],
 "metadata": {
  "kernelspec": {
   "name": "python3",
   "language": "python",
   "display_name": "Python 3 (ipykernel)"
  }
 },
 "nbformat": 5,
 "nbformat_minor": 9
}
