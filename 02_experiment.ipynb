{
 "cells": [
  {
   "metadata": {
    "ExecuteTime": {
     "end_time": "2025-02-26T17:22:37.787347Z",
     "start_time": "2025-02-26T17:22:36.839115Z"
    }
   },
   "cell_type": "code",
   "source": [
    "from lib.EmbeddingProvider import OpenAiEmbeddingProvider\n",
    "\n",
    "from lib.DataRepository import DataRepository\n",
    "from lib.questions import QuestionExtractor\n",
    "\n",
    "repo = DataRepository(embedding=OpenAiEmbeddingProvider(), db_path=\"./data/db/open_ai_small_50_10\", chunk_size=50, chunk_overlap=10)\n",
    "# repo.save_by_file()"
   ],
   "id": "48fc39767e7febdd",
   "outputs": [],
   "execution_count": 1
  },
  {
   "metadata": {},
   "cell_type": "markdown",
   "source": "# Parce question and find metrics in the question, find similar metrics",
   "id": "4a2d0ace9cb6df7f"
  },
  {
   "metadata": {
    "ExecuteTime": {
     "end_time": "2025-02-26T17:22:42.956140Z",
     "start_time": "2025-02-26T17:22:42.951730Z"
    }
   },
   "cell_type": "code",
   "source": [
    "from lib.questions import QuestionExtractor\n",
    "\n",
    "question = \"Which leadership **positions** changed at Canadian Tire Corporation in the reporting period? If data is not available, return 'N/A'.\"\n",
    "kind = \"names\"\n",
    "\n",
    "extractor = QuestionExtractor()\n",
    "extract = extractor.extract(question)\n",
    "print(extract)\n",
    "close_metrics = extractor.get_synonyms(extract[\"metric\"])\n",
    "print(close_metrics)"
   ],
   "id": "fda68e6583d35596",
   "outputs": [
    {
     "name": "stdout",
     "output_type": "stream",
     "text": [
      "{'original_question': \"Which leadership **positions** changed at Canadian Tire Corporation in the reporting period? If data is not available, return 'N/A'.\", 'metric': 'leadership positions changed', 'companies': ['Canadian Tire Corporation'], 'currency': None, 'comparison': None, 'category': 'leadership_changed'}\n",
      "['changed leadership roles', 'modified executive positions', 'altered leadership roles', 'leadership role modifications']\n"
     ]
    }
   ],
   "execution_count": 2
  },
  {
   "metadata": {
    "ExecuteTime": {
     "end_time": "2025-02-26T17:23:10.687055Z",
     "start_time": "2025-02-26T17:23:10.680618Z"
    }
   },
   "cell_type": "code",
   "source": [
    "import json\n",
    "\n",
    "companiy = extract[\"companies\"][0]\n",
    "with open(\"data/r2.0-test/subset.json\", 'r') as file:\n",
    "    subset = json.load(file)\n",
    "filered = list(filter(lambda x: x[\"company_name\"] == companiy, subset))[0]\n",
    "filered"
   ],
   "id": "f216404b7f4e8c63",
   "outputs": [
    {
     "data": {
      "text/plain": [
       "{'sha1': '7c55d7900a241e732c145687598d43c915a678f9',\n",
       " 'cur': 'USD',\n",
       " 'company_name': 'Canadian Tire Corporation',\n",
       " 'major_industry': 'Retail',\n",
       " 'mentions_recent_mergers_and_acquisitions': True,\n",
       " 'has_leadership_changes': True,\n",
       " 'has_layoffs': False,\n",
       " 'has_executive_compensation': True,\n",
       " 'has_rnd_investment_numbers': True,\n",
       " 'has_new_product_launches': True,\n",
       " 'has_capital_expenditures': True,\n",
       " 'has_financial_performance_indicators': True,\n",
       " 'has_dividend_policy_changes': True,\n",
       " 'has_share_buyback_plans': True,\n",
       " 'has_capital_structure_changes': False,\n",
       " 'mentions_new_risk_factors': True,\n",
       " 'has_guidance_updates': True,\n",
       " 'has_regulatory_or_litigation_issues': False,\n",
       " 'has_strategic_restructuring': False,\n",
       " 'has_supply_chain_disruptions': True,\n",
       " 'has_esg_initiatives': True}"
      ]
     },
     "execution_count": 3,
     "metadata": {},
     "output_type": "execute_result"
    }
   ],
   "execution_count": 3
  },
  {
   "metadata": {},
   "cell_type": "markdown",
   "source": "# Find similar metrics in the data base",
   "id": "9874ee77f157711d"
  },
  {
   "metadata": {
    "ExecuteTime": {
     "end_time": "2025-02-26T17:32:08.694325Z",
     "start_time": "2025-02-26T17:32:05.263457Z"
    }
   },
   "cell_type": "code",
   "source": [
    "main_metric = extract[\"metric\"]\n",
    "print(main_metric)\n",
    "file_filter = { \"source\" : f\"./data/r2.0-test/pdfs/{filered[\"sha1\"]}.pdf\" }\n",
    "main_results = repo.query(main_metric, k=10, f=file_filter) # start with main metric from the question\n",
    "\n",
    "main_metric = extract[\"metric\"]\n",
    "smaller_results = [] # start with main metric from the question\n",
    "for m in close_metrics:\n",
    "    smaller_results += repo.query(m, k=5) # find similar metrics\n",
    "search_results = main_results + smaller_results\n",
    "print(len(search_results))"
   ],
   "id": "dd095eed13384898",
   "outputs": [
    {
     "name": "stdout",
     "output_type": "stream",
     "text": [
      "leadership positions changed\n",
      "30\n"
     ]
    }
   ],
   "execution_count": 9
  },
  {
   "metadata": {},
   "cell_type": "code",
   "outputs": [],
   "execution_count": null,
   "source": "filtered_search",
   "id": "1caf0f0d4ef75e1"
  }
 ],
 "metadata": {
  "kernelspec": {
   "name": "python3",
   "language": "python",
   "display_name": "Python 3 (ipykernel)"
  }
 },
 "nbformat": 5,
 "nbformat_minor": 9
}
